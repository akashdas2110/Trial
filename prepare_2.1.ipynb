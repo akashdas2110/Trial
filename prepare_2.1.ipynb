{
 "cells": [
  {
   "cell_type": "code",
   "execution_count": 1,
   "id": "5f42b7e5",
   "metadata": {},
   "outputs": [],
   "source": [
    "# Python ≥3.5 is required\n",
    "import sys\n",
    "assert sys.version_info >= (3, 5)\n",
    "\n",
    "# Scikit-Learn ≥0.20 is required\n",
    "import sklearn\n",
    "assert sklearn.__version__ >= \"0.20\"\n",
    "\n",
    "# Common imports\n",
    "import numpy as np\n",
    "import os\n",
    "import pandas as pd\n",
    "# For visualization\n",
    "import matplotlib.pyplot as plt\n",
    "%matplotlib inline\n",
    "import seaborn as sns\n",
    "pd.options.display.max_rows = None\n",
    "pd.options.display.max_columns = None\n",
    "\n",
    "# to make this notebook's output stable across runs\n",
    "np.random.seed(42)\n",
    "\n",
    "# To plot pretty figures\n",
    "%matplotlib inline\n",
    "import matplotlib as mpl\n",
    "import matplotlib.pyplot as plt\n",
    "mpl.rc('axes', labelsize=14)\n",
    "mpl.rc('xtick', labelsize=12)\n",
    "mpl.rc('ytick', labelsize=12)\n",
    "\n",
    "# Where to save the figures\n",
    "PROJECT_ROOT_DIR = \".\"\n",
    "CHAPTER_ID = \"decision_trees\"\n",
    "IMAGES_PATH = os.path.join(PROJECT_ROOT_DIR, \"images\", CHAPTER_ID)\n",
    "os.makedirs(IMAGES_PATH, exist_ok=True)\n",
    "\n",
    "def save_fig(fig_id, tight_layout=True, fig_extension=\"png\", resolution=300):\n",
    "    path = os.path.join(IMAGES_PATH, fig_id + \".\" + fig_extension)\n",
    "    print(\"Saving figure\", fig_id)\n",
    "    if tight_layout:\n",
    "        plt.tight_layout()\n",
    "    plt.savefig(path, format=fig_extension, dpi=resolution)\n",
    "\n",
    "# Common imports\n",
    "import numpy as np\n",
    "import os"
   ]
  },
  {
   "cell_type": "markdown",
   "id": "c3635017",
   "metadata": {},
   "source": [
    "### Loading the dataset from a given filepath:"
   ]
  },
  {
   "cell_type": "code",
   "execution_count": 2,
   "id": "6ffd418e",
   "metadata": {},
   "outputs": [],
   "source": [
    "h = open(\"C:/Users/AVIK DAS/Desktop/CMI H.W. & Assignments/4th semester/AML/Assignment1/SMSSpamCollection\",\"r\")"
   ]
  },
  {
   "cell_type": "markdown",
   "id": "379d91fa",
   "metadata": {},
   "source": [
    "### Preprocessing the data:"
   ]
  },
  {
   "cell_type": "markdown",
   "id": "1caeafe8",
   "metadata": {},
   "source": [
    "Extracting the message and it's label to create the training dataset"
   ]
  },
  {
   "cell_type": "code",
   "execution_count": 3,
   "id": "73c029da",
   "metadata": {},
   "outputs": [],
   "source": [
    "def messlabeldist(message):\n",
    "    l = message.split(\"\\t\")\n",
    "    m_label = [l[1][:-1], l[0]]\n",
    "    return m_label"
   ]
  },
  {
   "cell_type": "code",
   "execution_count": 4,
   "id": "d22ebac2",
   "metadata": {},
   "outputs": [],
   "source": [
    "h = open(\"C:/Users/AVIK DAS/Desktop/CMI H.W. & Assignments/4th semester/AML/Assignment1/SMSSpamCollection\",\"r\")\n",
    "column_names = [\"message\", \"label\"]\n",
    "Full_data = []\n",
    "i = 0\n",
    "index_names = []\n",
    "for line in h:\n",
    "    i += 1\n",
    "    index_names.append(i)\n",
    "    d = messlabeldist(line)\n",
    "    Full_data.append(d)\n",
    "h.close()\n",
    "df = pd.DataFrame(data = Full_data, \n",
    "                  index = index_names, \n",
    "                  columns = column_names)"
   ]
  },
  {
   "cell_type": "code",
   "execution_count": 5,
   "id": "cb0b4f48",
   "metadata": {},
   "outputs": [
    {
     "data": {
      "text/html": [
       "<div>\n",
       "<style scoped>\n",
       "    .dataframe tbody tr th:only-of-type {\n",
       "        vertical-align: middle;\n",
       "    }\n",
       "\n",
       "    .dataframe tbody tr th {\n",
       "        vertical-align: top;\n",
       "    }\n",
       "\n",
       "    .dataframe thead th {\n",
       "        text-align: right;\n",
       "    }\n",
       "</style>\n",
       "<table border=\"1\" class=\"dataframe\">\n",
       "  <thead>\n",
       "    <tr style=\"text-align: right;\">\n",
       "      <th></th>\n",
       "      <th>message</th>\n",
       "      <th>label</th>\n",
       "    </tr>\n",
       "  </thead>\n",
       "  <tbody>\n",
       "    <tr>\n",
       "      <th>3691</th>\n",
       "      <td>You still coming tonight?</td>\n",
       "      <td>ham</td>\n",
       "    </tr>\n",
       "    <tr>\n",
       "      <th>3528</th>\n",
       "      <td>\"HEY BABE! FAR 2 SPUN-OUT 2 SPK AT DA MO... DE...</td>\n",
       "      <td>ham</td>\n",
       "    </tr>\n",
       "    <tr>\n",
       "      <th>725</th>\n",
       "      <td>Ya even those cookies have jelly on them</td>\n",
       "      <td>ham</td>\n",
       "    </tr>\n",
       "    <tr>\n",
       "      <th>3371</th>\n",
       "      <td>Sorry i've not gone to that place. I.ll do so ...</td>\n",
       "      <td>ham</td>\n",
       "    </tr>\n",
       "    <tr>\n",
       "      <th>469</th>\n",
       "      <td>When are you going to ride your bike?</td>\n",
       "      <td>ham</td>\n",
       "    </tr>\n",
       "    <tr>\n",
       "      <th>5413</th>\n",
       "      <td>Daddy, shu shu is looking 4 u... U wan me 2 te...</td>\n",
       "      <td>ham</td>\n",
       "    </tr>\n",
       "    <tr>\n",
       "      <th>4363</th>\n",
       "      <td>Don't Think About \"What u Have Got\" Think Abou...</td>\n",
       "      <td>ham</td>\n",
       "    </tr>\n",
       "    <tr>\n",
       "      <th>4242</th>\n",
       "      <td>The LAY MAN! Just to let you know you are miss...</td>\n",
       "      <td>ham</td>\n",
       "    </tr>\n",
       "    <tr>\n",
       "      <th>5443</th>\n",
       "      <td>Thank you. do you generally date the brothas?</td>\n",
       "      <td>ham</td>\n",
       "    </tr>\n",
       "    <tr>\n",
       "      <th>5310</th>\n",
       "      <td>What you did in  leave.</td>\n",
       "      <td>ham</td>\n",
       "    </tr>\n",
       "    <tr>\n",
       "      <th>2233</th>\n",
       "      <td>K, wen ur free come to my home and also tel vi...</td>\n",
       "      <td>ham</td>\n",
       "    </tr>\n",
       "    <tr>\n",
       "      <th>3574</th>\n",
       "      <td>Yup, leaving right now, be back soon</td>\n",
       "      <td>ham</td>\n",
       "    </tr>\n",
       "    <tr>\n",
       "      <th>4380</th>\n",
       "      <td>Doing nothing, then u not having dinner w us?</td>\n",
       "      <td>ham</td>\n",
       "    </tr>\n",
       "    <tr>\n",
       "      <th>3317</th>\n",
       "      <td>FREE MESSAGE Activate your 500 FREE Text Messa...</td>\n",
       "      <td>spam</td>\n",
       "    </tr>\n",
       "    <tr>\n",
       "      <th>4896</th>\n",
       "      <td>Convey my regards to him</td>\n",
       "      <td>ham</td>\n",
       "    </tr>\n",
       "  </tbody>\n",
       "</table>\n",
       "</div>"
      ],
      "text/plain": [
       "                                                message label\n",
       "3691                          You still coming tonight?   ham\n",
       "3528  \"HEY BABE! FAR 2 SPUN-OUT 2 SPK AT DA MO... DE...   ham\n",
       "725            Ya even those cookies have jelly on them   ham\n",
       "3371  Sorry i've not gone to that place. I.ll do so ...   ham\n",
       "469               When are you going to ride your bike?   ham\n",
       "5413  Daddy, shu shu is looking 4 u... U wan me 2 te...   ham\n",
       "4363  Don't Think About \"What u Have Got\" Think Abou...   ham\n",
       "4242  The LAY MAN! Just to let you know you are miss...   ham\n",
       "5443      Thank you. do you generally date the brothas?   ham\n",
       "5310                            What you did in  leave.   ham\n",
       "2233  K, wen ur free come to my home and also tel vi...   ham\n",
       "3574               Yup, leaving right now, be back soon   ham\n",
       "4380      Doing nothing, then u not having dinner w us?   ham\n",
       "3317  FREE MESSAGE Activate your 500 FREE Text Messa...  spam\n",
       "4896                           Convey my regards to him   ham"
      ]
     },
     "execution_count": 5,
     "metadata": {},
     "output_type": "execute_result"
    }
   ],
   "source": [
    "df.sample(n=15)"
   ]
  },
  {
   "cell_type": "markdown",
   "id": "6a07846c",
   "metadata": {},
   "source": [
    "### Train-Test-Validation splitting:"
   ]
  },
  {
   "cell_type": "code",
   "execution_count": 6,
   "id": "a0239588",
   "metadata": {},
   "outputs": [],
   "source": [
    "#for splitting the dataset into train test data\n",
    "from sklearn.model_selection import train_test_split\n",
    "#Spliting into Train & Test Data\n",
    "train_X,test_X,train_Y,test_Y = sklearn.model_selection.train_test_split(df.iloc[:,:1],df.iloc[:,1:],train_size=0.85, test_size=0.15, random_state=42)\n",
    "train_X,valid_X,train_Y,valid_Y = sklearn.model_selection.train_test_split(train_X,train_Y,train_size=0.85, test_size=0.15, random_state=42)"
   ]
  },
  {
   "cell_type": "code",
   "execution_count": 7,
   "id": "422dd072",
   "metadata": {},
   "outputs": [
    {
     "data": {
      "text/plain": [
       "(4026, 837, 711)"
      ]
     },
     "execution_count": 7,
     "metadata": {},
     "output_type": "execute_result"
    }
   ],
   "source": [
    "len(train_X),len(test_X),len(valid_X)"
   ]
  },
  {
   "cell_type": "code",
   "execution_count": 8,
   "id": "9060f092",
   "metadata": {},
   "outputs": [],
   "source": [
    "# saving the dataframe\n",
    "column_names = [\"message\", \"label\"]\n",
    "train_index_names = [i for i in range(len(train_X))]\n",
    "\n",
    "train_data = [[list(train_X.message)[i],list(train_Y.label)[i]] for i in range(len(train_X))]\n",
    "train_df = pd.DataFrame(data = train_data,\n",
    "                       index = train_index_names, \n",
    "                  columns = column_names)\n",
    "train_df.to_csv('train.csv')\n",
    "\n",
    "test_index_names = [i for i in range(len(test_X))]\n",
    "test_data = [[list(test_X.message)[i],list(test_Y.label)[i]] for i in range(len(test_X))]\n",
    "test_df = pd.DataFrame(data = test_data,\n",
    "                      index = test_index_names, \n",
    "                  columns = column_names)\n",
    "test_df.to_csv('test.csv')\n",
    "\n",
    "valid_index_names = [i for i in range(len(valid_X))]\n",
    "valid_data = [[list(valid_X.message)[i],list(valid_Y.label)[i]] for i in range(len(valid_X))]\n",
    "valid_df = pd.DataFrame(data = valid_data,\n",
    "                       index = valid_index_names, \n",
    "                  columns = column_names)\n",
    "valid_df.to_csv('validation.csv')"
   ]
  },
  {
   "cell_type": "code",
   "execution_count": 9,
   "id": "9ebe1f3a",
   "metadata": {},
   "outputs": [
    {
     "data": {
      "text/html": [
       "<div>\n",
       "<style scoped>\n",
       "    .dataframe tbody tr th:only-of-type {\n",
       "        vertical-align: middle;\n",
       "    }\n",
       "\n",
       "    .dataframe tbody tr th {\n",
       "        vertical-align: top;\n",
       "    }\n",
       "\n",
       "    .dataframe thead th {\n",
       "        text-align: right;\n",
       "    }\n",
       "</style>\n",
       "<table border=\"1\" class=\"dataframe\">\n",
       "  <thead>\n",
       "    <tr style=\"text-align: right;\">\n",
       "      <th></th>\n",
       "      <th>label</th>\n",
       "    </tr>\n",
       "  </thead>\n",
       "  <tbody>\n",
       "    <tr>\n",
       "      <th>count</th>\n",
       "      <td>4026</td>\n",
       "    </tr>\n",
       "    <tr>\n",
       "      <th>unique</th>\n",
       "      <td>2</td>\n",
       "    </tr>\n",
       "    <tr>\n",
       "      <th>top</th>\n",
       "      <td>ham</td>\n",
       "    </tr>\n",
       "    <tr>\n",
       "      <th>freq</th>\n",
       "      <td>3508</td>\n",
       "    </tr>\n",
       "  </tbody>\n",
       "</table>\n",
       "</div>"
      ],
      "text/plain": [
       "       label\n",
       "count   4026\n",
       "unique     2\n",
       "top      ham\n",
       "freq    3508"
      ]
     },
     "execution_count": 9,
     "metadata": {},
     "output_type": "execute_result"
    }
   ],
   "source": [
    "train_Y.describe()"
   ]
  },
  {
   "cell_type": "code",
   "execution_count": 10,
   "id": "9e93a7eb",
   "metadata": {},
   "outputs": [
    {
     "data": {
      "text/html": [
       "<div>\n",
       "<style scoped>\n",
       "    .dataframe tbody tr th:only-of-type {\n",
       "        vertical-align: middle;\n",
       "    }\n",
       "\n",
       "    .dataframe tbody tr th {\n",
       "        vertical-align: top;\n",
       "    }\n",
       "\n",
       "    .dataframe thead th {\n",
       "        text-align: right;\n",
       "    }\n",
       "</style>\n",
       "<table border=\"1\" class=\"dataframe\">\n",
       "  <thead>\n",
       "    <tr style=\"text-align: right;\">\n",
       "      <th></th>\n",
       "      <th>label</th>\n",
       "    </tr>\n",
       "  </thead>\n",
       "  <tbody>\n",
       "    <tr>\n",
       "      <th>count</th>\n",
       "      <td>837</td>\n",
       "    </tr>\n",
       "    <tr>\n",
       "      <th>unique</th>\n",
       "      <td>2</td>\n",
       "    </tr>\n",
       "    <tr>\n",
       "      <th>top</th>\n",
       "      <td>ham</td>\n",
       "    </tr>\n",
       "    <tr>\n",
       "      <th>freq</th>\n",
       "      <td>712</td>\n",
       "    </tr>\n",
       "  </tbody>\n",
       "</table>\n",
       "</div>"
      ],
      "text/plain": [
       "       label\n",
       "count    837\n",
       "unique     2\n",
       "top      ham\n",
       "freq     712"
      ]
     },
     "execution_count": 10,
     "metadata": {},
     "output_type": "execute_result"
    }
   ],
   "source": [
    "test_Y.describe()"
   ]
  },
  {
   "cell_type": "code",
   "execution_count": 11,
   "id": "af92574d",
   "metadata": {},
   "outputs": [
    {
     "data": {
      "text/html": [
       "<div>\n",
       "<style scoped>\n",
       "    .dataframe tbody tr th:only-of-type {\n",
       "        vertical-align: middle;\n",
       "    }\n",
       "\n",
       "    .dataframe tbody tr th {\n",
       "        vertical-align: top;\n",
       "    }\n",
       "\n",
       "    .dataframe thead th {\n",
       "        text-align: right;\n",
       "    }\n",
       "</style>\n",
       "<table border=\"1\" class=\"dataframe\">\n",
       "  <thead>\n",
       "    <tr style=\"text-align: right;\">\n",
       "      <th></th>\n",
       "      <th>label</th>\n",
       "    </tr>\n",
       "  </thead>\n",
       "  <tbody>\n",
       "    <tr>\n",
       "      <th>count</th>\n",
       "      <td>711</td>\n",
       "    </tr>\n",
       "    <tr>\n",
       "      <th>unique</th>\n",
       "      <td>2</td>\n",
       "    </tr>\n",
       "    <tr>\n",
       "      <th>top</th>\n",
       "      <td>ham</td>\n",
       "    </tr>\n",
       "    <tr>\n",
       "      <th>freq</th>\n",
       "      <td>607</td>\n",
       "    </tr>\n",
       "  </tbody>\n",
       "</table>\n",
       "</div>"
      ],
      "text/plain": [
       "       label\n",
       "count    711\n",
       "unique     2\n",
       "top      ham\n",
       "freq     607"
      ]
     },
     "execution_count": 11,
     "metadata": {},
     "output_type": "execute_result"
    }
   ],
   "source": [
    "valid_Y.describe()"
   ]
  }
 ],
 "metadata": {
  "kernelspec": {
   "display_name": "Python 3",
   "language": "python",
   "name": "python3"
  },
  "language_info": {
   "codemirror_mode": {
    "name": "ipython",
    "version": 3
   },
   "file_extension": ".py",
   "mimetype": "text/x-python",
   "name": "python",
   "nbconvert_exporter": "python",
   "pygments_lexer": "ipython3",
   "version": "3.10.2"
  },
  "vscode": {
   "interpreter": {
    "hash": "f7e58418dee7f590208ef5a5b96084a083642485011d32abb745ffbd258078fe"
   }
  }
 },
 "nbformat": 4,
 "nbformat_minor": 5
}
